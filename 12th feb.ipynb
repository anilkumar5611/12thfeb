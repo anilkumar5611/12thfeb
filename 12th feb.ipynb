{
 "cells": [
  {
   "cell_type": "markdown",
   "id": "dadd029f",
   "metadata": {},
   "source": [
    "## Q1====="
   ]
  },
  {
   "cell_type": "code",
   "execution_count": 1,
   "id": "7dc23031",
   "metadata": {},
   "outputs": [],
   "source": [
    "# n Python, an exception is an event or condition that disrupts the normal flow of a program's\n",
    "# execution. When an exceptional situation occurs, Python raises an exception, which is a special \n",
    "# object that represents the error or problem. Exceptions are used to handle errors and exceptional \n",
    "# situations gracefully, allowing you to control how your program responds to unexpected events.\n",
    "\n",
    "# Exceptions can be categorized into two main types:\n",
    "\n",
    "# Built-in Exceptions (Standard Exceptions): These are predefined exceptions provided by Python. \n",
    "#     They cover common errors and issues that can occur during program execution. Some examples \n",
    "#     of built-in exceptions include:\n",
    "\n",
    "# ZeroDivisionError: Raised when you try to divide by zero.\n",
    "# TypeError: Raised when an operation or function is applied to an object of inappropriate type.\n",
    "# ValueError: Raised when a function receives an argument of the correct type but an inappropriate \n",
    "#     value.\n",
    "# IndexError: Raised when you try to access an index that is out of range in a sequence \n",
    "#     (e.g., list, tuple).\n",
    "# FileNotFoundError: Raised when you try to open a file that doesn't exist.\n",
    "# KeyError: Raised when you try to access a dictionary key that doesn't exist.\n",
    "# User-Defined Exceptions (Custom Exceptions): In addition to the built-in exceptions,\n",
    "#     you can create your own custom exceptions by defining new exception classes. \n",
    "#     These are useful when you want to handle specific application-related errors \n",
    "#     in a more structured way. You can raise and catch custom exceptions to handle \n",
    "#     unique situations in your code.\n",
    "\n",
    "# Differences between Exceptions and Syntax Errors:\n",
    "\n",
    "# Exceptions: Exceptions occur during the runtime of a program when an unexpected condition \n",
    "#     or error is encountered. These can be handled using try, except, finally, and raise \n",
    "#     statements to gracefully manage and recover from errors.\n",
    "\n",
    "# Syntax Errors: Syntax errors, also known as parsing errors, occur during the compilation of \n",
    "#     your code. They occur when you violate the rules of the Python language regarding the \n",
    "#     structure and syntax of your code. Syntax errors must be fixed before you can run the program.\n",
    "#     Common examples include missing colons, invalid indentation, and misspelled keywords.\n",
    "\n",
    "# Here's an example of handling a built-in exception (ZeroDivisionError) and a custom exception in \n",
    "# Python:"
   ]
  },
  {
   "cell_type": "code",
   "execution_count": 2,
   "id": "c8f1d8ba",
   "metadata": {},
   "outputs": [
    {
     "name": "stdout",
     "output_type": "stream",
     "text": [
      "Caught a ZeroDivisionError: division by zero\n",
      "This code always runs.\n"
     ]
    },
    {
     "ename": "NameError",
     "evalue": "name 'some_condition' is not defined",
     "output_type": "error",
     "traceback": [
      "\u001b[1;31m---------------------------------------------------------------------------\u001b[0m",
      "\u001b[1;31mNameError\u001b[0m                                 Traceback (most recent call last)",
      "Cell \u001b[1;32mIn[2], line 18\u001b[0m\n\u001b[0;32m     16\u001b[0m \u001b[38;5;66;03m# Raise a custom exception\u001b[39;00m\n\u001b[0;32m     17\u001b[0m \u001b[38;5;28;01mtry\u001b[39;00m:\n\u001b[1;32m---> 18\u001b[0m     \u001b[38;5;28;01mif\u001b[39;00m \u001b[43msome_condition\u001b[49m:\n\u001b[0;32m     19\u001b[0m         \u001b[38;5;28;01mraise\u001b[39;00m MyCustomException(\u001b[38;5;124m\"\u001b[39m\u001b[38;5;124mThis is a custom exception.\u001b[39m\u001b[38;5;124m\"\u001b[39m)\n\u001b[0;32m     20\u001b[0m \u001b[38;5;28;01mexcept\u001b[39;00m MyCustomException \u001b[38;5;28;01mas\u001b[39;00m e:\n",
      "\u001b[1;31mNameError\u001b[0m: name 'some_condition' is not defined"
     ]
    }
   ],
   "source": [
    "# Custom Exception\n",
    "class MyCustomException(Exception):\n",
    "    pass\n",
    "\n",
    "try:\n",
    "    x = 10 / 0  # This will raise a ZeroDivisionError\n",
    "except ZeroDivisionError as e:\n",
    "    print(\"Caught a ZeroDivisionError:\", e)\n",
    "except MyCustomException as e:\n",
    "    print(\"Caught a MyCustomException:\", e)\n",
    "else:\n",
    "    print(\"No exception occurred.\")\n",
    "finally:\n",
    "    print(\"This code always runs.\")\n",
    "\n",
    "# Raise a custom exception\n",
    "try:\n",
    "    if some_condition:\n",
    "        raise MyCustomException(\"This is a custom exception.\")\n",
    "except MyCustomException as e:\n",
    "    print(\"Caught a MyCustomException:\", e)\n"
   ]
  },
  {
   "cell_type": "markdown",
   "id": "92be2c79",
   "metadata": {},
   "source": [
    "## Q2====="
   ]
  },
  {
   "cell_type": "code",
   "execution_count": 3,
   "id": "1acb1778",
   "metadata": {},
   "outputs": [],
   "source": [
    "# When an exception is not handled in a Python program, \n",
    "# it propagates up the call stack until it reaches the top level of the program. \n",
    "# If it still remains unhandled at that point, the program terminates abruptly, \n",
    "# and an error message is displayed, including a traceback that shows the sequence of \n",
    "# function calls leading up to the unhandled exception. This process is called \n",
    "# \"unhandled exception propagation.\"\n",
    "\n",
    "# Here's an example to illustrate what happens when an exception is not handled:"
   ]
  },
  {
   "cell_type": "code",
   "execution_count": 4,
   "id": "5731c53c",
   "metadata": {},
   "outputs": [
    {
     "ename": "ZeroDivisionError",
     "evalue": "division by zero",
     "output_type": "error",
     "traceback": [
      "\u001b[1;31m---------------------------------------------------------------------------\u001b[0m",
      "\u001b[1;31mZeroDivisionError\u001b[0m                         Traceback (most recent call last)",
      "Cell \u001b[1;32mIn[4], line 5\u001b[0m\n\u001b[0;32m      2\u001b[0m     \u001b[38;5;28;01mreturn\u001b[39;00m x \u001b[38;5;241m/\u001b[39m y\n\u001b[0;32m      4\u001b[0m \u001b[38;5;28;01mtry\u001b[39;00m:\n\u001b[1;32m----> 5\u001b[0m     result \u001b[38;5;241m=\u001b[39m \u001b[43mdivide\u001b[49m\u001b[43m(\u001b[49m\u001b[38;5;241;43m10\u001b[39;49m\u001b[43m,\u001b[49m\u001b[43m \u001b[49m\u001b[38;5;241;43m0\u001b[39;49m\u001b[43m)\u001b[49m  \u001b[38;5;66;03m# This will raise a ZeroDivisionError\u001b[39;00m\n\u001b[0;32m      6\u001b[0m \u001b[38;5;28;01mexcept\u001b[39;00m \u001b[38;5;167;01mValueError\u001b[39;00m \u001b[38;5;28;01mas\u001b[39;00m e:\n\u001b[0;32m      7\u001b[0m     \u001b[38;5;28mprint\u001b[39m(\u001b[38;5;124m\"\u001b[39m\u001b[38;5;124mCaught a ValueError:\u001b[39m\u001b[38;5;124m\"\u001b[39m, e)\n",
      "Cell \u001b[1;32mIn[4], line 2\u001b[0m, in \u001b[0;36mdivide\u001b[1;34m(x, y)\u001b[0m\n\u001b[0;32m      1\u001b[0m \u001b[38;5;28;01mdef\u001b[39;00m \u001b[38;5;21mdivide\u001b[39m(x, y):\n\u001b[1;32m----> 2\u001b[0m     \u001b[38;5;28;01mreturn\u001b[39;00m \u001b[43mx\u001b[49m\u001b[43m \u001b[49m\u001b[38;5;241;43m/\u001b[39;49m\u001b[43m \u001b[49m\u001b[43my\u001b[49m\n",
      "\u001b[1;31mZeroDivisionError\u001b[0m: division by zero"
     ]
    }
   ],
   "source": [
    "def divide(x, y):\n",
    "    return x / y\n",
    "\n",
    "try:\n",
    "    result = divide(10, 0)  # This will raise a ZeroDivisionError\n",
    "except ValueError as e:\n",
    "    print(\"Caught a ValueError:\", e)\n",
    "\n",
    "print(\"This line of code will not be executed because of the unhandled exception.\")\n"
   ]
  },
  {
   "cell_type": "code",
   "execution_count": 5,
   "id": "47093fb7",
   "metadata": {},
   "outputs": [],
   "source": [
    "# In this example, the divide function attempts to perform a division operation, \n",
    "# and it raises a ZeroDivisionError when trying to divide by zero. However, \n",
    "# there is no except block that specifically handles ZeroDivisionError, \n",
    "# and the except block for ValueError will not catch it because it's a \n",
    "# different type of exception.\n",
    "\n",
    "# When the unhandled ZeroDivisionError occurs, the program's normal flow is disrupted,\n",
    "# and Python starts looking for a suitable except block to handle the exception. \n",
    "# It checks the current function for an appropriate except block. If none is found,\n",
    "# it moves up the call stack to the caller function (in this case, the top-level code).\n",
    "\n",
    "# In this case, since there is no suitable except block in the entire program,\n",
    "# Python raises the unhandled exception and terminates the program with an error \n",
    "# message that includes a traceback:"
   ]
  },
  {
   "cell_type": "code",
   "execution_count": 7,
   "id": "7ab8c85c",
   "metadata": {},
   "outputs": [
    {
     "ename": "IndentationError",
     "evalue": "unexpected indent (2303097373.py, line 2)",
     "output_type": "error",
     "traceback": [
      "\u001b[1;36m  Cell \u001b[1;32mIn[7], line 2\u001b[1;36m\u001b[0m\n\u001b[1;33m    File \"example.py\", line 5, in <module>\u001b[0m\n\u001b[1;37m    ^\u001b[0m\n\u001b[1;31mIndentationError\u001b[0m\u001b[1;31m:\u001b[0m unexpected indent\n"
     ]
    }
   ],
   "source": [
    "#Traceback (most recent call last):\n",
    "  File \"example.py\", line 5, in <module>\n",
    "    result = divide(10, 0)  # This will raise a ZeroDivisionError\n",
    "  File \"example.py\", line 2, in divide\n",
    "    return x / y\n",
    "ZeroDivisionError: division by zero\n"
   ]
  },
  {
   "cell_type": "markdown",
   "id": "3148cf84",
   "metadata": {},
   "source": [
    "## Q3+++++===="
   ]
  },
  {
   "cell_type": "code",
   "execution_count": 8,
   "id": "a2bb9188",
   "metadata": {},
   "outputs": [
    {
     "name": "stdout",
     "output_type": "stream",
     "text": [
      "Caught a ZeroDivisionError: division by zero\n"
     ]
    }
   ],
   "source": [
    "try:\n",
    "    result = 10 / 0  # This will raise a ZeroDivisionError\n",
    "except ZeroDivisionError as e:\n",
    "    print(\"Caught a ZeroDivisionError:\", e)\n"
   ]
  },
  {
   "cell_type": "code",
   "execution_count": 9,
   "id": "8306f00b",
   "metadata": {},
   "outputs": [
    {
     "name": "stdout",
     "output_type": "stream",
     "text": [
      "Caught a ZeroDivisionError: division by zero\n",
      "This code always runs.\n"
     ]
    }
   ],
   "source": [
    "try:\n",
    "    result = 10 / 0  # This will raise a ZeroDivisionError\n",
    "except ZeroDivisionError as e:\n",
    "    print(\"Caught a ZeroDivisionError:\", e)\n",
    "finally:\n",
    "    print(\"This code always runs.\")\n"
   ]
  },
  {
   "cell_type": "code",
   "execution_count": 10,
   "id": "ba8947ed",
   "metadata": {},
   "outputs": [
    {
     "name": "stdout",
     "output_type": "stream",
     "text": [
      "Caught a ValueError: x should be a non-negative number\n"
     ]
    }
   ],
   "source": [
    "def custom_exception_example(x):\n",
    "    if x < 0:\n",
    "        raise ValueError(\"x should be a non-negative number\")\n",
    "    return x\n",
    "\n",
    "try:\n",
    "    result = custom_exception_example(-5)\n",
    "except ValueError as e:\n",
    "    print(\"Caught a ValueError:\", e)\n"
   ]
  },
  {
   "cell_type": "markdown",
   "id": "e7ac800d",
   "metadata": {},
   "source": [
    "## Q4========"
   ]
  },
  {
   "cell_type": "code",
   "execution_count": 11,
   "id": "50dde187",
   "metadata": {},
   "outputs": [
    {
     "name": "stdout",
     "output_type": "stream",
     "text": [
      "Caught a ValueError: x should be a non-negative number\n"
     ]
    }
   ],
   "source": [
    "def custom_exception_example(x):\n",
    "    if x < 0:\n",
    "        raise ValueError(\"x should be a non-negative number\")\n",
    "    return x\n",
    "\n",
    "try:\n",
    "    result = custom_exception_example(-5)\n",
    "except ValueError as e:\n",
    "    print(\"Caught a ValueError:\", e)\n"
   ]
  },
  {
   "cell_type": "code",
   "execution_count": 12,
   "id": "24a53564",
   "metadata": {},
   "outputs": [
    {
     "name": "stdout",
     "output_type": "stream",
     "text": [
      "Caught a ZeroDivisionError: division by zero\n",
      "This code always runs.\n"
     ]
    }
   ],
   "source": [
    "try:\n",
    "    result = 10 / 0  # This will raise a ZeroDivisionError\n",
    "except ZeroDivisionError as e:\n",
    "    print(\"Caught a ZeroDivisionError:\", e)\n",
    "finally:\n",
    "    print(\"This code always runs.\")"
   ]
  },
  {
   "cell_type": "code",
   "execution_count": 13,
   "id": "273f36fd",
   "metadata": {},
   "outputs": [
    {
     "name": "stdout",
     "output_type": "stream",
     "text": [
      "Caught a ZeroDivisionError: division by zero\n"
     ]
    }
   ],
   "source": [
    "try:\n",
    "    result = 10 / 0  # This will raise a ZeroDivisionError\n",
    "except ZeroDivisionError as e:\n",
    "    print(\"Caught a ZeroDivisionError:\", e)"
   ]
  },
  {
   "cell_type": "markdown",
   "id": "286066b8",
   "metadata": {},
   "source": [
    "## Q5==================="
   ]
  },
  {
   "cell_type": "code",
   "execution_count": 14,
   "id": "bffabcbd",
   "metadata": {},
   "outputs": [
    {
     "name": "stdout",
     "output_type": "stream",
     "text": [
      "Caught a NegativeValueError: Negative value (-5) is not allowed.\n"
     ]
    }
   ],
   "source": [
    "class NegativeValueError(Exception):\n",
    "    def __init__(self, value):\n",
    "        self.value = value\n",
    "        super().__init__(f\"Negative value ({value}) is not allowed.\")\n",
    "\n",
    "def process_positive_number(x):\n",
    "    if x < 0:\n",
    "        raise NegativeValueError(x)\n",
    "    return x\n",
    "\n",
    "try:\n",
    "    result = process_positive_number(-5)\n",
    "except NegativeValueError as e:\n",
    "    print(f\"Caught a NegativeValueError: {e}\")\n"
   ]
  },
  {
   "cell_type": "markdown",
   "id": "2e0d8ff4",
   "metadata": {},
   "source": [
    "## Q6=============="
   ]
  },
  {
   "cell_type": "code",
   "execution_count": 15,
   "id": "672c755b",
   "metadata": {},
   "outputs": [
    {
     "name": "stdout",
     "output_type": "stream",
     "text": [
      "Enter a value (should not exceed 100): 50\n",
      "The checked value is: 50\n"
     ]
    }
   ],
   "source": [
    "class ValueTooLargeError(Exception):\n",
    "    def __init__(self, value, limit):\n",
    "        self.value = value\n",
    "        self.limit = limit\n",
    "        super().__init__(f\"Value {value} exceeds the limit of {limit}.\")\n",
    "\n",
    "def check_value(value, limit):\n",
    "    if value > limit:\n",
    "        raise ValueTooLargeError(value, limit)\n",
    "    return value\n",
    "\n",
    "try:\n",
    "    user_input = int(input(\"Enter a value (should not exceed 100): \"))\n",
    "    limit = 100\n",
    "    checked_value = check_value(user_input, limit)\n",
    "    print(f\"The checked value is: {checked_value}\")\n",
    "except ValueTooLargeError as e:\n",
    "    print(f\"Caught a ValueTooLargeError: {e}\")\n",
    "except ValueError:\n",
    "    print(\"Invalid input. Please enter a valid integer.\")\n"
   ]
  },
  {
   "cell_type": "code",
   "execution_count": null,
   "id": "41520a41",
   "metadata": {},
   "outputs": [],
   "source": []
  },
  {
   "cell_type": "code",
   "execution_count": null,
   "id": "52e2f857",
   "metadata": {},
   "outputs": [],
   "source": []
  }
 ],
 "metadata": {
  "kernelspec": {
   "display_name": "Python 3 (ipykernel)",
   "language": "python",
   "name": "python3"
  },
  "language_info": {
   "codemirror_mode": {
    "name": "ipython",
    "version": 3
   },
   "file_extension": ".py",
   "mimetype": "text/x-python",
   "name": "python",
   "nbconvert_exporter": "python",
   "pygments_lexer": "ipython3",
   "version": "3.11.2"
  }
 },
 "nbformat": 4,
 "nbformat_minor": 5
}
